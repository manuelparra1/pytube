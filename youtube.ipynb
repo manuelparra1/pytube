{
 "cells": [
  {
   "cell_type": "code",
   "execution_count": 4,
   "id": "4a77ce39",
   "metadata": {},
   "outputs": [],
   "source": [
    "from pytube import YouTube"
   ]
  },
  {
   "cell_type": "markdown",
   "id": "e049806b",
   "metadata": {},
   "source": [
    "### Create `pytube` `YouTube` object"
   ]
  },
  {
   "cell_type": "code",
   "execution_count": 5,
   "id": "5349d9c9",
   "metadata": {},
   "outputs": [],
   "source": [
    "# Create YouTube object with video_url variable\n",
    "video_url = \"https://youtu.be/TK2l-Dv4M2M\"\n",
    "yt = YouTube(video_url)"
   ]
  },
  {
   "cell_type": "code",
   "execution_count": null,
   "id": "e54fe6c4",
   "metadata": {},
   "outputs": [],
   "source": [
    "#yt = YouTube(\n",
    "#        'http://youtube.com/watch?v=2lAe1cqCOXo',\n",
    "#        on_progress_callback=progress_func,\n",
    "#        on_complete_callback=complete_func,\n",
    "#        proxies=my_proxies,\n",
    "#        use_oauth=False,\n",
    "#        allow_oauth_cache=True\n",
    "#    )"
   ]
  },
  {
   "cell_type": "markdown",
   "id": "21df6a89",
   "metadata": {},
   "source": [
    "### Streams"
   ]
  },
  {
   "cell_type": "code",
   "execution_count": 6,
   "id": "9c63ed65",
   "metadata": {},
   "outputs": [
    {
     "name": "stdout",
     "output_type": "stream",
     "text": [
      "Resolution: 144p, Format: video/3gpp\n",
      "Resolution: 360p, Format: video/mp4\n",
      "Resolution: 720p, Format: video/mp4\n",
      "Resolution: 2160p, Format: video/webm\n",
      "Resolution: 1440p, Format: video/webm\n",
      "Resolution: 1080p, Format: video/mp4\n",
      "Resolution: 1080p, Format: video/webm\n",
      "Resolution: 720p, Format: video/mp4\n",
      "Resolution: 720p, Format: video/webm\n",
      "Resolution: 480p, Format: video/mp4\n",
      "Resolution: 480p, Format: video/webm\n",
      "Resolution: 360p, Format: video/mp4\n",
      "Resolution: 360p, Format: video/webm\n",
      "Resolution: 240p, Format: video/mp4\n",
      "Resolution: 240p, Format: video/webm\n",
      "Resolution: 144p, Format: video/mp4\n",
      "Resolution: 144p, Format: video/webm\n",
      "Resolution: None, Format: audio/mp4\n",
      "Resolution: None, Format: audio/mp4\n",
      "Resolution: None, Format: audio/webm\n",
      "Resolution: None, Format: audio/webm\n",
      "Resolution: None, Format: audio/webm\n"
     ]
    }
   ],
   "source": [
    "# Retrieve all available streams\n",
    "for stream in yt.streams:\n",
    "    # Print the available quality choices\n",
    "    print(f\"Resolution: {stream.resolution}, Format: {stream.mime_type}\")"
   ]
  },
  {
   "cell_type": "markdown",
   "id": "f4afb8ee",
   "metadata": {},
   "source": [
    "### 1080p MP4"
   ]
  },
  {
   "cell_type": "code",
   "execution_count": 7,
   "id": "43913dc1",
   "metadata": {},
   "outputs": [
    {
     "name": "stdout",
     "output_type": "stream",
     "text": [
      "<Stream: itag=\"17\" mime_type=\"video/3gpp\" res=\"144p\" fps=\"12fps\" vcodec=\"mp4v.20.3\" acodec=\"mp4a.40.2\" progressive=\"True\" type=\"video\">\n",
      "<Stream: itag=\"18\" mime_type=\"video/mp4\" res=\"360p\" fps=\"24fps\" vcodec=\"avc1.42001E\" acodec=\"mp4a.40.2\" progressive=\"True\" type=\"video\">\n",
      "<Stream: itag=\"22\" mime_type=\"video/mp4\" res=\"720p\" fps=\"24fps\" vcodec=\"avc1.64001F\" acodec=\"mp4a.40.2\" progressive=\"True\" type=\"video\">\n",
      "<Stream: itag=\"313\" mime_type=\"video/webm\" res=\"2160p\" fps=\"24fps\" vcodec=\"vp9\" progressive=\"False\" type=\"video\">\n",
      "<Stream: itag=\"271\" mime_type=\"video/webm\" res=\"1440p\" fps=\"24fps\" vcodec=\"vp9\" progressive=\"False\" type=\"video\">\n",
      "<Stream: itag=\"137\" mime_type=\"video/mp4\" res=\"1080p\" fps=\"24fps\" vcodec=\"avc1.640028\" progressive=\"False\" type=\"video\">\n",
      "<Stream: itag=\"248\" mime_type=\"video/webm\" res=\"1080p\" fps=\"24fps\" vcodec=\"vp9\" progressive=\"False\" type=\"video\">\n",
      "<Stream: itag=\"136\" mime_type=\"video/mp4\" res=\"720p\" fps=\"24fps\" vcodec=\"avc1.4d401f\" progressive=\"False\" type=\"video\">\n",
      "<Stream: itag=\"247\" mime_type=\"video/webm\" res=\"720p\" fps=\"24fps\" vcodec=\"vp9\" progressive=\"False\" type=\"video\">\n",
      "<Stream: itag=\"135\" mime_type=\"video/mp4\" res=\"480p\" fps=\"24fps\" vcodec=\"avc1.4d401e\" progressive=\"False\" type=\"video\">\n",
      "<Stream: itag=\"244\" mime_type=\"video/webm\" res=\"480p\" fps=\"24fps\" vcodec=\"vp9\" progressive=\"False\" type=\"video\">\n",
      "<Stream: itag=\"134\" mime_type=\"video/mp4\" res=\"360p\" fps=\"24fps\" vcodec=\"avc1.4d401e\" progressive=\"False\" type=\"video\">\n",
      "<Stream: itag=\"243\" mime_type=\"video/webm\" res=\"360p\" fps=\"24fps\" vcodec=\"vp9\" progressive=\"False\" type=\"video\">\n",
      "<Stream: itag=\"133\" mime_type=\"video/mp4\" res=\"240p\" fps=\"24fps\" vcodec=\"avc1.4d4015\" progressive=\"False\" type=\"video\">\n",
      "<Stream: itag=\"242\" mime_type=\"video/webm\" res=\"240p\" fps=\"24fps\" vcodec=\"vp9\" progressive=\"False\" type=\"video\">\n",
      "<Stream: itag=\"160\" mime_type=\"video/mp4\" res=\"144p\" fps=\"24fps\" vcodec=\"avc1.4d400c\" progressive=\"False\" type=\"video\">\n",
      "<Stream: itag=\"278\" mime_type=\"video/webm\" res=\"144p\" fps=\"24fps\" vcodec=\"vp9\" progressive=\"False\" type=\"video\">\n",
      "<Stream: itag=\"139\" mime_type=\"audio/mp4\" abr=\"48kbps\" acodec=\"mp4a.40.5\" progressive=\"False\" type=\"audio\">\n",
      "<Stream: itag=\"140\" mime_type=\"audio/mp4\" abr=\"128kbps\" acodec=\"mp4a.40.2\" progressive=\"False\" type=\"audio\">\n",
      "<Stream: itag=\"249\" mime_type=\"audio/webm\" abr=\"50kbps\" acodec=\"opus\" progressive=\"False\" type=\"audio\">\n",
      "<Stream: itag=\"250\" mime_type=\"audio/webm\" abr=\"70kbps\" acodec=\"opus\" progressive=\"False\" type=\"audio\">\n",
      "<Stream: itag=\"251\" mime_type=\"audio/webm\" abr=\"160kbps\" acodec=\"opus\" progressive=\"False\" type=\"audio\">\n"
     ]
    }
   ],
   "source": [
    "for i in yt.streams:\n",
    "    print(i)"
   ]
  },
  {
   "cell_type": "code",
   "execution_count": 8,
   "id": "7ba46d70",
   "metadata": {},
   "outputs": [],
   "source": [
    "mp4_1080p = yt.streams.get_highest_resolution()"
   ]
  },
  {
   "cell_type": "code",
   "execution_count": null,
   "id": "024a8665",
   "metadata": {},
   "outputs": [],
   "source": [
    "#print(mp4_1080p)"
   ]
  },
  {
   "cell_type": "code",
   "execution_count": 9,
   "id": "f1f3a205",
   "metadata": {},
   "outputs": [
    {
     "data": {
      "text/plain": [
       "'/Users/dusts/Projects/pytube/YouTube-Videos/Can My EV-Swapped Ford F-100 Impress an Old Rancher We Max It Out & Torture Test It! Ep4.mp4'"
      ]
     },
     "execution_count": 9,
     "metadata": {},
     "output_type": "execute_result"
    }
   ],
   "source": [
    "mp4_1080p.download(output_path = \"pytube/YouTube-Videos/\")"
   ]
  },
  {
   "cell_type": "code",
   "execution_count": null,
   "id": "5643e9c0",
   "metadata": {},
   "outputs": [],
   "source": [
    "# Filter and select 1080p resolution stream with mp4 file type\n",
    "#mp4_1080p = yt.streams.filter(file_extension='mp4', resolution='1080p').first()\n",
    "\n",
    "# Download Selected Quality to Directory\n",
    "#mp4_1080p.download(output_path = \"pytube/YouTube-Videos/\")"
   ]
  },
  {
   "cell_type": "markdown",
   "id": "aa7020ef",
   "metadata": {},
   "source": [
    "### 1080p WEBM"
   ]
  },
  {
   "cell_type": "code",
   "execution_count": null,
   "id": "03afda23",
   "metadata": {},
   "outputs": [],
   "source": []
  },
  {
   "cell_type": "code",
   "execution_count": null,
   "id": "ca132606",
   "metadata": {},
   "outputs": [],
   "source": []
  },
  {
   "cell_type": "code",
   "execution_count": null,
   "id": "c97200de",
   "metadata": {},
   "outputs": [],
   "source": [
    "# Filter and select 1080p resolution stream with webm file type\n",
    "#best_webm = yt.streams.filter(file_extension='webm', resolution='1080p').first()\n",
    "\n",
    "# Download Selected Quality to Directory\n",
    "#best_webm.download(output_path = \"pytube/YouTube-Videos/\")"
   ]
  },
  {
   "cell_type": "markdown",
   "id": "0fd44a12",
   "metadata": {},
   "source": [
    "# Playlists"
   ]
  },
  {
   "cell_type": "code",
   "execution_count": 3,
   "id": "31a16aa6",
   "metadata": {},
   "outputs": [
    {
     "name": "stdout",
     "output_type": "stream",
     "text": [
      "Downloaded: 43.36%\n",
      "Downloaded: 86.72%\n",
      "Downloaded: 100.00%\n",
      "Downloaded: 25.84%\n",
      "Downloaded: 51.68%\n",
      "Downloaded: 77.51%\n",
      "Downloaded: 100.00%\n",
      "Downloaded: 22.23%\n",
      "Downloaded: 44.46%\n",
      "Downloaded: 66.69%\n",
      "Downloaded: 88.91%\n",
      "Downloaded: 100.00%\n",
      "Downloaded: 20.32%\n",
      "Downloaded: 40.64%\n",
      "Downloaded: 60.96%\n",
      "Downloaded: 81.29%\n",
      "Downloaded: 100.00%\n",
      "Downloaded: 26.70%\n",
      "Downloaded: 53.41%\n",
      "Downloaded: 80.11%\n",
      "Downloaded: 100.00%\n",
      "Downloaded: 16.26%\n",
      "Downloaded: 32.52%\n",
      "Downloaded: 48.78%\n",
      "Downloaded: 65.04%\n",
      "Downloaded: 81.30%\n",
      "Downloaded: 97.56%\n",
      "Downloaded: 100.00%\n",
      "Downloaded: 26.53%\n",
      "Downloaded: 53.06%\n",
      "Downloaded: 79.60%\n",
      "Downloaded: 100.00%\n",
      "Downloaded: 16.83%\n",
      "Downloaded: 33.66%\n",
      "Downloaded: 50.49%\n",
      "Downloaded: 67.32%\n",
      "Downloaded: 84.15%\n",
      "Downloaded: 100.00%\n",
      "Downloaded: 22.06%\n",
      "Downloaded: 44.11%\n",
      "Downloaded: 66.17%\n",
      "Downloaded: 88.23%\n",
      "Downloaded: 100.00%\n",
      "Downloaded: 22.59%\n",
      "Downloaded: 45.18%\n",
      "Downloaded: 67.76%\n",
      "Downloaded: 90.35%\n",
      "Downloaded: 100.00%\n",
      "Downloaded: 17.00%\n",
      "Downloaded: 34.00%\n",
      "Downloaded: 51.00%\n",
      "Downloaded: 68.00%\n",
      "Downloaded: 85.00%\n",
      "Downloaded: 100.00%\n",
      "Downloaded: 69.69%\n",
      "Downloaded: 100.00%\n",
      "Downloaded: 86.06%\n",
      "Downloaded: 100.00%\n",
      "Downloaded: 64.68%\n",
      "Downloaded: 100.00%\n",
      "Downloaded: 33.42%\n",
      "Downloaded: 66.85%\n",
      "Downloaded: 100.00%\n",
      "Downloaded: 22.84%\n",
      "Downloaded: 45.68%\n",
      "Downloaded: 68.53%\n",
      "Downloaded: 91.37%\n",
      "Downloaded: 100.00%\n",
      "Downloaded: 18.79%\n",
      "Downloaded: 37.59%\n",
      "Downloaded: 56.38%\n",
      "Downloaded: 75.17%\n",
      "Downloaded: 93.97%\n",
      "Downloaded: 100.00%\n",
      "Downloaded: 46.30%\n",
      "Downloaded: 92.60%\n",
      "Downloaded: 100.00%\n"
     ]
    }
   ],
   "source": [
    "from pytube import Playlist\n",
    "\n",
    "def on_progress(stream, chunk, bytes_remaining):\n",
    "    total_bytes = stream.filesize\n",
    "    bytes_downloaded = total_bytes - bytes_remaining\n",
    "    percentage = (bytes_downloaded / total_bytes) * 100\n",
    "    print(f\"Downloaded: {percentage:.2f}%\")\n",
    "\n",
    "playlist_url = \"https://youtube.com/playlist?list=PLhoH5vyxr6Qq41NFL4GvhFp-WLd5xzIzZ\"\n",
    "playlist = Playlist(playlist_url)\n",
    "\n",
    "output_path = \"pytube/YouTube-Videos/\"\n",
    "\n",
    "for video in playlist.videos:\n",
    "    video.register_on_progress_callback(on_progress)\n",
    "    video.streams.get_highest_resolution().download(output_path=output_path)"
   ]
  },
  {
   "cell_type": "code",
   "execution_count": null,
   "id": "eb8588f5",
   "metadata": {},
   "outputs": [],
   "source": [
    "from pytube import Playlist\n",
    "\n",
    "def on_progress(stream, chunk, bytes_remaining):\n",
    "    total_bytes = stream.filesize\n",
    "    bytes_downloaded = total_bytes - bytes_remaining\n",
    "    percentage = (bytes_downloaded / total_bytes) * 100\n",
    "    print(f\"Downloading: [{video_counter}/{total_videos}] {stream.default_filename} ({percentage:.2f}%)\")\n",
    "\n",
    "playlist_url = \"https://www.youtube.com/playlist?list=PLAYLIST_ID\"\n",
    "playlist = Playlist(playlist_url)\n",
    "\n",
    "output_path = \"pytube/YouTube-Videos/\"\n",
    "\n",
    "video_counter = 1  # Initialize the counter\n",
    "total_videos = len(playlist.videos)  # Get the total number of videos in the playlist\n",
    "\n",
    "for video in playlist.videos:\n",
    "    video.register_on_progress_callback(on_progress)\n",
    "\n",
    "    # Assign the formatted counter value to the file name\n",
    "    filename = f\"{video_counter:03} - {video.title}.mp4\"\n",
    "\n",
    "    video.streams.get_highest_resolution().download(output_path=output_path, filename=filename)\n",
    "\n",
    "    video_counter += 1  # Increment the counter for the next video\n",
    "\n",
    "    remaining_videos = total_videos - video_counter + 1\n",
    "    overall_percentage = (remaining_videos / total_videos) * 100\n",
    "    print(f\"Overall Progress: {remaining_videos}/{total_videos} videos remaining ({overall_percentage:.2f}%)\\n\")\n"
   ]
  }
 ],
 "metadata": {
  "kernelspec": {
   "display_name": "Python 3 (ipykernel)",
   "language": "python",
   "name": "python3"
  },
  "language_info": {
   "codemirror_mode": {
    "name": "ipython",
    "version": 3
   },
   "file_extension": ".py",
   "mimetype": "text/x-python",
   "name": "python",
   "nbconvert_exporter": "python",
   "pygments_lexer": "ipython3",
   "version": "3.10.11"
  }
 },
 "nbformat": 4,
 "nbformat_minor": 5
}
