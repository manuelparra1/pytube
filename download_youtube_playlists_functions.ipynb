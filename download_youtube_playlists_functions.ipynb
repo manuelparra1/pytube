{
 "cells": [
  {
   "cell_type": "markdown",
   "id": "1a1ed98d",
   "metadata": {},
   "source": [
    "## Libraries"
   ]
  },
  {
   "cell_type": "code",
   "execution_count": null,
   "id": "f53b0b04",
   "metadata": {},
   "outputs": [],
   "source": [
    "import os\n",
    "import re\n",
    "from pytube import Playlist"
   ]
  },
  {
   "cell_type": "markdown",
   "id": "de808593",
   "metadata": {},
   "source": [
    "## Functions"
   ]
  },
  {
   "cell_type": "code",
   "execution_count": null,
   "id": "a911d29d",
   "metadata": {},
   "outputs": [],
   "source": [
    "def sanitize_filename(filename):\n",
    "    # Define the pattern for invalid characters\n",
    "    pattern = r'[\\\\/:\\*\\?\"<>|]'\n",
    "\n",
    "    # Replace invalid characters with a hyphen\n",
    "    sanitized_filename = re.sub(pattern, '-', filename)\n",
    "    return sanitized_filename"
   ]
  },
  {
   "cell_type": "code",
   "execution_count": null,
   "id": "4707cf2f",
   "metadata": {},
   "outputs": [],
   "source": [
    "def on_progress(chunk, file_handler, bytes_remaining, video, video_counter, total_videos):\n",
    "    total_bytes = video.streams.get_highest_resolution().filesize\n",
    "    bytes_downloaded = total_bytes - bytes_remaining\n",
    "    percentage = (bytes_downloaded / total_bytes) * 100\n",
    "    progress = f\"Downloading: [{video_counter}/{total_videos}] {video.title[:70]}... ({percentage:.2f}%)\"\n",
    "    print(progress.ljust(100), end='\\r')"
   ]
  },
  {
   "cell_type": "code",
   "execution_count": null,
   "id": "8b17afde",
   "metadata": {},
   "outputs": [],
   "source": [
    "def display_overall_progress(video_counter, total_videos):\n",
    "    remaining_videos = total_videos - video_counter\n",
    "    overall_percentage = (video_counter / total_videos) * 100\n",
    "    overall_progress = f\"Overall Progress: ({overall_percentage:.2f}%) {video_counter} of {total_videos} videos completed - {remaining_videos} Remaining\"\n",
    "    print(overall_progress)"
   ]
  },
  {
   "cell_type": "code",
   "execution_count": null,
   "id": "38541407",
   "metadata": {},
   "outputs": [],
   "source": [
    "def download_playlist(playlist_url, output_path):\n",
    "    playlist = Playlist(playlist_url)\n",
    "\n",
    "    # Create subdirectory using the playlist name\n",
    "    playlist_name = playlist.title\n",
    "    playlist_dir = os.path.join(output_path, playlist_name)\n",
    "    os.makedirs(playlist_dir, exist_ok=True)\n",
    "\n",
    "    video_counter = 1  # Initialize the counter\n",
    "    total_videos = len(playlist.videos)  # Get the total number of videos in the playlist\n",
    "\n",
    "    for video in playlist.videos:\n",
    "        # Assign the formatted counter value to the file name\n",
    "        filename = f\"{video_counter:03} - {video.title}.mp4\"\n",
    "\n",
    "        # Sanitize the filename\n",
    "        filename = sanitize_filename(filename)\n",
    "\n",
    "        # Set the output path to the playlist subdirectory\n",
    "        video_output_path = os.path.join(playlist_dir, filename)\n",
    "\n",
    "        # Register the progress callback function with the video object and the counter\n",
    "        video.register_on_progress_callback(lambda chunk, file_handler, bytes_remaining: on_progress(chunk, file_handler, bytes_remaining, video, video_counter, total_videos))\n",
    "\n",
    "        # Download the highest resolution stream to the playlist directory\n",
    "        video.streams.get_highest_resolution().download(output_path=playlist_dir, filename=filename)\n",
    "\n",
    "        video_counter += 1  # Increment the counter for the next video\n",
    "\n",
    "        display_overall_progress(video_counter, total_videos)\n",
    "\n",
    "    print(\"Download complete!\")"
   ]
  },
  {
   "cell_type": "markdown",
   "id": "a7855ccf",
   "metadata": {},
   "source": [
    "## Main"
   ]
  },
  {
   "cell_type": "code",
   "execution_count": 2,
   "id": "c5d54620",
   "metadata": {},
   "outputs": [
    {
     "name": "stdout",
     "output_type": "stream",
     "text": [
      "Overall Progress: (33.33%) 2 of 6 videos completed - 4 Remaining57-Year-Old Truck a New L... (100.00%)\n",
      "Overall Progress: (50.00%) 3 of 6 videos completed - 3 Remainingld Ford Truck & Turn It I... (100.00%)\n",
      "Overall Progress: (66.67%) 4 of 6 videos completed - 2 Remainingern FOX Shocks? | Chargez... (100.00%)\n",
      "Overall Progress: (83.33%) 5 of 6 videos completed - 1 Remainingancher? We Max It Out & T... (100.00%)\n",
      "Overall Progress: (100.00%) 6 of 6 videos completed - 0 Remaininget: Here Are Your REACTI... (100.00%)\n",
      "Overall Progress: (116.67%) 7 of 6 videos completed - -1 Remainingd: Here’s What You Need... (100.00%)\n",
      "Download complete!\n"
     ]
    }
   ],
   "source": [
    "playlist_url = \"https://youtube.com/playlist?list=PLTR5ZfYubz5Up1SQiaJmB29kgRNNUsClM\"\n",
    "output_path = \"Downloads/\"\n",
    "download_playlist(playlist_url, output_path)"
   ]
  },
  {
   "cell_type": "code",
   "execution_count": null,
   "id": "7b7ca3c8",
   "metadata": {},
   "outputs": [],
   "source": []
  }
 ],
 "metadata": {
  "kernelspec": {
   "display_name": "Python 3 (ipykernel)",
   "language": "python",
   "name": "python3"
  },
  "language_info": {
   "codemirror_mode": {
    "name": "ipython",
    "version": 3
   },
   "file_extension": ".py",
   "mimetype": "text/x-python",
   "name": "python",
   "nbconvert_exporter": "python",
   "pygments_lexer": "ipython3",
   "version": "3.10.11"
  }
 },
 "nbformat": 4,
 "nbformat_minor": 5
}
