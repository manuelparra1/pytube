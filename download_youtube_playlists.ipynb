{
 "cells": [
  {
   "cell_type": "code",
   "execution_count": 1,
   "id": "d0ba1b97",
   "metadata": {},
   "outputs": [],
   "source": [
    "import os\n",
    "from pytube import Playlist"
   ]
  },
  {
   "cell_type": "code",
   "execution_count": 2,
   "id": "2122b3ce",
   "metadata": {},
   "outputs": [],
   "source": [
    "def on_progress(stream, chunk, bytes_remaining):\n",
    "    total_bytes = stream.filesize\n",
    "    bytes_downloaded = total_bytes - bytes_remaining\n",
    "    percentage = (bytes_downloaded / total_bytes) * 100\n",
    "    print(f\"Downloading: [{video_counter}/{total_videos}] {stream.default_filename} ({percentage:.2f}%)\")"
   ]
  },
  {
   "cell_type": "markdown",
   "id": "b83b064f",
   "metadata": {},
   "source": [
    "## URL"
   ]
  },
  {
   "cell_type": "code",
   "execution_count": 4,
   "id": "7295d594",
   "metadata": {},
   "outputs": [],
   "source": [
    "playlist_url = \"https://youtube.com/playlist?list=PLTR5ZfYubz5Up1SQiaJmB29kgRNNUsClM\""
   ]
  },
  {
   "cell_type": "markdown",
   "id": "26f8aa3f",
   "metadata": {},
   "source": [
    "## Variables"
   ]
  },
  {
   "cell_type": "code",
   "execution_count": 5,
   "id": "6360c5e1",
   "metadata": {},
   "outputs": [],
   "source": [
    "# Setup Variables\n",
    "# ---------------\n",
    "playlist = Playlist(playlist_url)\n",
    "output_path = \"Downloads/\"\n",
    "\n",
    "# Create subdirectory using the playlist name\n",
    "playlist_name = playlist.title\n",
    "playlist_dir = os.path.join(output_path, playlist_name)\n",
    "os.makedirs(playlist_dir, exist_ok=True)\n",
    "\n",
    "video_counter = 1  # Initialize the counter\n",
    "total_videos = len(playlist.videos)  # Get the total number of videos in the playlist"
   ]
  },
  {
   "cell_type": "markdown",
   "id": "e44faf21",
   "metadata": {},
   "source": [
    "## Downloading"
   ]
  },
  {
   "cell_type": "code",
   "execution_count": null,
   "id": "3d5c8159",
   "metadata": {},
   "outputs": [],
   "source": [
    "# Downloading\n",
    "# -----------\n",
    "for video in playlist.videos:\n",
    "    video.register_on_progress_callback(on_progress)\n",
    "\n",
    "    # Assign the formatted counter value to the file name\n",
    "    filename = f\"{video_counter:03} - {video.title}.mp4\"\n",
    "\n",
    "    # Set the output path to the playlist subdirectory\n",
    "    video_output_path = os.path.join(playlist_dir, filename)\n",
    "\n",
    "    video.streams.get_highest_resolution().download(output_path=video_output_path)\n",
    "\n",
    "    video_counter += 1  # Increment the counter for the next video\n",
    "\n",
    "    remaining_videos = total_videos - video_counter + 1\n",
    "    overall_percentage = (video_counter / total_videos) * 100\n",
    "    overall_progress = f\"Overall Progress: ({overall_percentage:.2f}%) {video_counter} of {total_videos} videos completed - {remaining_videos} Remaining\"\n",
    "    print(overall_progress)\n",
    "\n",
    "print(\"Download complete!\")"
   ]
  }
 ],
 "metadata": {
  "kernelspec": {
   "display_name": "Python 3 (ipykernel)",
   "language": "python",
   "name": "python3"
  },
  "language_info": {
   "codemirror_mode": {
    "name": "ipython",
    "version": 3
   },
   "file_extension": ".py",
   "mimetype": "text/x-python",
   "name": "python",
   "nbconvert_exporter": "python",
   "pygments_lexer": "ipython3",
   "version": "3.10.11"
  }
 },
 "nbformat": 4,
 "nbformat_minor": 5
}
