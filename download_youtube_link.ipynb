{
 "cells": [
  {
   "cell_type": "code",
   "execution_count": 1,
   "id": "5bc24206",
   "metadata": {},
   "outputs": [],
   "source": [
    "import os\n",
    "import re\n",
    "from pytube import YouTube\n",
    "\n",
    "def sanitize_filename(filename):\n",
    "    pattern = r'[\\\\/:\\*\\?\"<>|]'\n",
    "    sanitized_filename = re.sub(pattern, '-', filename)\n",
    "    return sanitized_filename\n",
    "\n",
    "def download_video(video_url, output_path):\n",
    "    yt = YouTube(video_url)\n",
    "    title = yt.title\n",
    "\n",
    "    filename = f\"{sanitize_filename(title)}.mp4\"\n",
    "    output_file = os.path.join(output_path, filename)\n",
    "\n",
    "    stream = yt.streams.get_highest_resolution()\n",
    "    stream.download(output_path=output_path, filename=filename)\n",
    "    \n",
    "    print(\"Download complete!\")\n",
    "\n",
    "video_url = \"https://youtu.be/RNAYYMNCn3M\"\n",
    "output_path = \"Downloads/\"\n",
    "\n",
    "download_video(video_url, output_path)"
   ]
  }
 ],
 "metadata": {
  "kernelspec": {
   "display_name": "Python 3 (ipykernel)",
   "language": "python",
   "name": "python3"
  },
  "language_info": {
   "codemirror_mode": {
    "name": "ipython",
    "version": 3
   },
   "file_extension": ".py",
   "mimetype": "text/x-python",
   "name": "python",
   "nbconvert_exporter": "python",
   "pygments_lexer": "ipython3",
   "version": "3.10.11"
  }
 },
 "nbformat": 4,
 "nbformat_minor": 5
}
